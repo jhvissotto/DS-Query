{
 "cells": [
  {
   "cell_type": "code",
   "execution_count": null,
   "metadata": {},
   "outputs": [],
   "source": [
    "import warnings\n",
    "import pandas as pd\n",
    "\n",
    "warnings.filterwarnings('ignore')\n",
    "pd.set_option('display.width',       None)\n",
    "pd.set_option('display.max_columns', None)"
   ]
  },
  {
   "cell_type": "code",
   "execution_count": null,
   "metadata": {},
   "outputs": [],
   "source": [
    "SRC     = 'Source'\n",
    "CITY    = 'itu'\n",
    "YEAR    =  2019\n",
    "\n",
    "SHEETS  = pd.DataFrame(columns=['Account','Sheet','On','Prefix'], data=[\n",
    "    ['Main',     '',         ''      , '.zip'], \n",
    "    ['Revenue',  'receitas', 'start' , ''    ], \n",
    "    ['Expenses', 'despesas', 'start' , ''    ], \n",
    "    ['Fund',     'fundeb',   'middle', ''    ], \n",
    "    ['Health',   'saude',    'middle', ''    ], \n",
    "])"
   ]
  },
  {
   "cell_type": "code",
   "execution_count": null,
   "metadata": {},
   "outputs": [],
   "source": [
    "def source_name(account, sheet, city, year, prefix, ext='csv'):\n",
    "    if account in ['Main']:                 return f'{city}-{year}{prefix}.{ext}'\n",
    "    if account in ['Revenue', 'Expenses']:  return f'{sheet}-{city}-{year}{prefix}.{ext}'\n",
    "    if account in ['Fund',    'Health']:    return f'{city}-{sheet}-{year}{prefix}.{ext}'\n",
    "\n",
    "\n",
    "for i, x in SHEETS.iterrows():\n",
    "    print(source_name(account=x.Account, sheet=x.Sheet, prefix=x.Prefix, city=CITY, year=YEAR))"
   ]
  },
  {
   "cell_type": "code",
   "execution_count": null,
   "metadata": {},
   "outputs": [],
   "source": [
    "def PARSE_CSV(SHEETS, CITY, YEAR, City='Cidade', Year='Ano',  sep=';', encoding='ISO-8859-1'):\n",
    "\n",
    "    pipe = []\n",
    "    for i, x in SHEETS.iterrows():\n",
    "        \n",
    "        name = source_name(account=x.Account, sheet=x.Sheet, prefix=x.Prefix, city=CITY, year=YEAR)\n",
    "        Csv  = pd.read_csv(name, sep=sep, encoding=encoding)\n",
    "        Src  = Csv.copy()\n",
    "        Src.insert(0, City, CITY.upper())\n",
    "        Src.insert(1, Year, YEAR)\n",
    "        \n",
    "        pipe.append({ 'Account':x.Account, 'Sheet':Src })\n",
    "    pass\n",
    "    return pipe\n",
    "\n",
    "\n",
    "Src = PARSE_CSV(SHEETS, CITY, YEAR)"
   ]
  },
  {
   "cell_type": "code",
   "execution_count": 6,
   "metadata": {},
   "outputs": [],
   "source": [
    "def SAVE_TO_EXCEL(Src, name, ext='xlsx', index=False):\n",
    "    file = f'{name}.{ext}'\n",
    "    with pd.ExcelWriter(file) as writer:\n",
    "        for i, x in enumerate(Src):\n",
    "            x['Sheet'].to_excel(writer, x['Account'], index=index)\n",
    "        pass\n",
    "    pass\n",
    "\n",
    "\n",
    "SAVE_TO_EXCEL(Src, name=SRC)"
   ]
  }
 ],
 "metadata": {
  "kernelspec": {
   "display_name": "base",
   "language": "python",
   "name": "python3"
  },
  "language_info": {
   "codemirror_mode": {
    "name": "ipython",
    "version": 3
   },
   "file_extension": ".py",
   "mimetype": "text/x-python",
   "name": "python",
   "nbconvert_exporter": "python",
   "pygments_lexer": "ipython3",
   "version": "3.11.9"
  }
 },
 "nbformat": 4,
 "nbformat_minor": 2
}
